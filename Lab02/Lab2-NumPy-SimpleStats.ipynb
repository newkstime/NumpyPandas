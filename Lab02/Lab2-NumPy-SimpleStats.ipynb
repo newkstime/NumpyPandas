{
 "cells": [
  {
   "cell_type": "markdown",
   "metadata": {},
   "source": [
    "# Lab 2: Intro to NumPy and Stock Statistics"
   ]
  },
  {
   "cell_type": "markdown",
   "metadata": {},
   "source": [
    "### Author: Eric Perry"
   ]
  },
  {
   "cell_type": "markdown",
   "metadata": {},
   "source": [
    "## Part A: Intro to NumPy: (49 pts)"
   ]
  },
  {
   "cell_type": "markdown",
   "metadata": {},
   "source": [
    "### Step A: (11 pts)"
   ]
  },
  {
   "cell_type": "code",
   "execution_count": 1,
   "metadata": {},
   "outputs": [],
   "source": [
    "import numpy as np"
   ]
  },
  {
   "cell_type": "code",
   "execution_count": 2,
   "metadata": {},
   "outputs": [
    {
     "data": {
      "text/plain": [
       "array([[0, 0, 0, 0],\n",
       "       [0, 0, 0, 0],\n",
       "       [0, 0, 0, 0]])"
      ]
     },
     "execution_count": 2,
     "metadata": {},
     "output_type": "execute_result"
    }
   ],
   "source": [
    "# Add the cells for Step A\n",
    "A1 = np.zeros((3, 4), dtype=int)\n",
    "A1"
   ]
  },
  {
   "cell_type": "code",
   "execution_count": 3,
   "metadata": {},
   "outputs": [
    {
     "data": {
      "text/plain": [
       "(3, 4)"
      ]
     },
     "execution_count": 3,
     "metadata": {},
     "output_type": "execute_result"
    }
   ],
   "source": [
    "A1.shape"
   ]
  },
  {
   "cell_type": "code",
   "execution_count": 4,
   "metadata": {},
   "outputs": [
    {
     "data": {
      "text/plain": [
       "2"
      ]
     },
     "execution_count": 4,
     "metadata": {},
     "output_type": "execute_result"
    }
   ],
   "source": [
    "A1.ndim"
   ]
  },
  {
   "cell_type": "code",
   "execution_count": 5,
   "metadata": {},
   "outputs": [
    {
     "data": {
      "text/plain": [
       "dtype('int32')"
      ]
     },
     "execution_count": 5,
     "metadata": {},
     "output_type": "execute_result"
    }
   ],
   "source": [
    "A1.dtype"
   ]
  },
  {
   "cell_type": "code",
   "execution_count": 6,
   "metadata": {},
   "outputs": [
    {
     "data": {
      "text/plain": [
       "12"
      ]
     },
     "execution_count": 6,
     "metadata": {},
     "output_type": "execute_result"
    }
   ],
   "source": [
    "A1.size"
   ]
  },
  {
   "cell_type": "code",
   "execution_count": 7,
   "metadata": {},
   "outputs": [
    {
     "data": {
      "text/plain": [
       "array([[5, 5, 5, 5],\n",
       "       [5, 5, 5, 5],\n",
       "       [5, 5, 5, 5]])"
      ]
     },
     "execution_count": 7,
     "metadata": {},
     "output_type": "execute_result"
    }
   ],
   "source": [
    "A2 = np.add(A1, 5)\n",
    "A2"
   ]
  },
  {
   "cell_type": "code",
   "execution_count": 8,
   "metadata": {},
   "outputs": [
    {
     "data": {
      "text/plain": [
       "array([[5, 5, 5, 3],\n",
       "       [5, 5, 1, 5],\n",
       "       [5, 2, 5, 5]])"
      ]
     },
     "execution_count": 8,
     "metadata": {},
     "output_type": "execute_result"
    }
   ],
   "source": [
    "A2[0][3] = 3\n",
    "A2[1][2] = 1\n",
    "A2[2][1] = 2\n",
    "A2"
   ]
  },
  {
   "cell_type": "markdown",
   "metadata": {},
   "source": [
    "### Step B: (12 pts)"
   ]
  },
  {
   "cell_type": "code",
   "execution_count": 9,
   "metadata": {},
   "outputs": [
    {
     "data": {
      "text/plain": [
       "array([1, 2, 3, 4, 5, 6, 7, 8, 9])"
      ]
     },
     "execution_count": 9,
     "metadata": {},
     "output_type": "execute_result"
    }
   ],
   "source": [
    "# Add the cells for Step B\n",
    "B1 = np.arange(1, 10)\n",
    "B1"
   ]
  },
  {
   "cell_type": "code",
   "execution_count": 10,
   "metadata": {},
   "outputs": [
    {
     "data": {
      "text/plain": [
       "[array([1, 2, 3]), array([4, 5, 6]), array([7, 8, 9])]"
      ]
     },
     "execution_count": 10,
     "metadata": {},
     "output_type": "execute_result"
    }
   ],
   "source": [
    "BS = np.split(B1, [3, 6])\n",
    "BS"
   ]
  },
  {
   "cell_type": "code",
   "execution_count": 11,
   "metadata": {},
   "outputs": [],
   "source": [
    "B2, B3, B4 = np.vsplit(BS, [1,2])"
   ]
  },
  {
   "cell_type": "code",
   "execution_count": 12,
   "metadata": {},
   "outputs": [
    {
     "data": {
      "text/plain": [
       "array([[1, 2, 3]])"
      ]
     },
     "execution_count": 12,
     "metadata": {},
     "output_type": "execute_result"
    }
   ],
   "source": [
    "B2"
   ]
  },
  {
   "cell_type": "code",
   "execution_count": 13,
   "metadata": {},
   "outputs": [
    {
     "data": {
      "text/plain": [
       "array([[4, 5, 6]])"
      ]
     },
     "execution_count": 13,
     "metadata": {},
     "output_type": "execute_result"
    }
   ],
   "source": [
    "B3"
   ]
  },
  {
   "cell_type": "code",
   "execution_count": 14,
   "metadata": {},
   "outputs": [
    {
     "data": {
      "text/plain": [
       "array([[7, 8, 9]])"
      ]
     },
     "execution_count": 14,
     "metadata": {},
     "output_type": "execute_result"
    }
   ],
   "source": [
    "B4"
   ]
  },
  {
   "cell_type": "code",
   "execution_count": 15,
   "metadata": {},
   "outputs": [
    {
     "data": {
      "text/plain": [
       "array([[38, 43, 48]])"
      ]
     },
     "execution_count": 15,
     "metadata": {},
     "output_type": "execute_result"
    }
   ],
   "source": [
    "B5 = np.subtract(np.add(np.multiply(4, B4), np.multiply(3, B3)), np.multiply(2, B2))\n",
    "B5"
   ]
  },
  {
   "cell_type": "code",
   "execution_count": 16,
   "metadata": {},
   "outputs": [
    {
     "data": {
      "text/plain": [
       "48"
      ]
     },
     "execution_count": 16,
     "metadata": {},
     "output_type": "execute_result"
    }
   ],
   "source": [
    "np.max(B5)"
   ]
  },
  {
   "cell_type": "code",
   "execution_count": 17,
   "metadata": {},
   "outputs": [
    {
     "data": {
      "text/plain": [
       "38"
      ]
     },
     "execution_count": 17,
     "metadata": {},
     "output_type": "execute_result"
    }
   ],
   "source": [
    "np.min(B5)"
   ]
  },
  {
   "cell_type": "code",
   "execution_count": 18,
   "metadata": {},
   "outputs": [
    {
     "data": {
      "text/plain": [
       "129"
      ]
     },
     "execution_count": 18,
     "metadata": {},
     "output_type": "execute_result"
    }
   ],
   "source": [
    "np.sum(B5)"
   ]
  },
  {
   "cell_type": "markdown",
   "metadata": {},
   "source": [
    "### Step C: (8 pts)"
   ]
  },
  {
   "cell_type": "code",
   "execution_count": 19,
   "metadata": {},
   "outputs": [
    {
     "data": {
      "text/plain": [
       "array([ 1,  3,  5,  7,  9, 11, 13, 15, 17, 19])"
      ]
     },
     "execution_count": 19,
     "metadata": {},
     "output_type": "execute_result"
    }
   ],
   "source": [
    "# Add the cells for Step C\n",
    "C1 = np.arange(1, 20, 2)\n",
    "C1"
   ]
  },
  {
   "cell_type": "code",
   "execution_count": 20,
   "metadata": {},
   "outputs": [
    {
     "data": {
      "text/plain": [
       "array([[ 1,  3],\n",
       "       [ 5,  7],\n",
       "       [ 9, 11],\n",
       "       [13, 15],\n",
       "       [17, 19]])"
      ]
     },
     "execution_count": 20,
     "metadata": {},
     "output_type": "execute_result"
    }
   ],
   "source": [
    "C2 = C1.reshape((5, 2))\n",
    "C2"
   ]
  },
  {
   "cell_type": "code",
   "execution_count": 21,
   "metadata": {},
   "outputs": [
    {
     "data": {
      "text/plain": [
       "array([[ 4],\n",
       "       [12],\n",
       "       [20],\n",
       "       [28],\n",
       "       [36]])"
      ]
     },
     "execution_count": 21,
     "metadata": {},
     "output_type": "execute_result"
    }
   ],
   "source": [
    "C3 = C2.sum(axis=1).reshape((5, 1))\n",
    "C3"
   ]
  },
  {
   "cell_type": "code",
   "execution_count": 22,
   "metadata": {},
   "outputs": [
    {
     "data": {
      "text/plain": [
       "array([[ 1,  3,  4],\n",
       "       [ 5,  7, 12],\n",
       "       [ 9, 11, 20],\n",
       "       [13, 15, 28],\n",
       "       [17, 19, 36]])"
      ]
     },
     "execution_count": 22,
     "metadata": {},
     "output_type": "execute_result"
    }
   ],
   "source": [
    "C4 = np.hstack([C2, C3])\n",
    "C4"
   ]
  },
  {
   "cell_type": "markdown",
   "metadata": {},
   "source": [
    "### Step D: (18 pts)"
   ]
  },
  {
   "cell_type": "code",
   "execution_count": 23,
   "metadata": {},
   "outputs": [],
   "source": [
    "# Add the cells for Step D\n",
    "np.random.seed(33)\n",
    "D = np.random.randint(1, high=9, size=(3,5))"
   ]
  },
  {
   "cell_type": "code",
   "execution_count": 24,
   "metadata": {},
   "outputs": [
    {
     "data": {
      "text/plain": [
       "4.0"
      ]
     },
     "execution_count": 24,
     "metadata": {},
     "output_type": "execute_result"
    }
   ],
   "source": [
    "DM = np.median(D)\n",
    "DM"
   ]
  },
  {
   "cell_type": "code",
   "execution_count": 25,
   "metadata": {},
   "outputs": [
    {
     "data": {
      "text/plain": [
       "array([[False, False,  True,  True,  True],\n",
       "       [ True,  True, False, False, False],\n",
       "       [False, False, False,  True, False]])"
      ]
     },
     "execution_count": 25,
     "metadata": {},
     "output_type": "execute_result"
    }
   ],
   "source": [
    "DML = np.less(D, DM)\n",
    "DML"
   ]
  },
  {
   "cell_type": "code",
   "execution_count": 26,
   "metadata": {},
   "outputs": [
    {
     "data": {
      "text/plain": [
       "6"
      ]
     },
     "execution_count": 26,
     "metadata": {},
     "output_type": "execute_result"
    }
   ],
   "source": [
    "np.count_nonzero(DML)"
   ]
  },
  {
   "cell_type": "code",
   "execution_count": 27,
   "metadata": {},
   "outputs": [
    {
     "data": {
      "text/plain": [
       "array([[ True,  True, False, False, False],\n",
       "       [False, False, False,  True,  True],\n",
       "       [False,  True,  True, False,  True]])"
      ]
     },
     "execution_count": 27,
     "metadata": {},
     "output_type": "execute_result"
    }
   ],
   "source": [
    "DMG = np.greater(D, DM)\n",
    "DMG"
   ]
  },
  {
   "cell_type": "code",
   "execution_count": 28,
   "metadata": {},
   "outputs": [
    {
     "data": {
      "text/plain": [
       "7"
      ]
     },
     "execution_count": 28,
     "metadata": {},
     "output_type": "execute_result"
    }
   ],
   "source": [
    "np.count_nonzero(DMG)"
   ]
  },
  {
   "cell_type": "code",
   "execution_count": 29,
   "metadata": {},
   "outputs": [
    {
     "data": {
      "text/plain": [
       "array([[False, False, False, False, False],\n",
       "       [False, False,  True, False, False],\n",
       "       [ True, False, False, False, False]])"
      ]
     },
     "execution_count": 29,
     "metadata": {},
     "output_type": "execute_result"
    }
   ],
   "source": [
    "DME = np.equal(D, DM)\n",
    "DME"
   ]
  },
  {
   "cell_type": "code",
   "execution_count": 30,
   "metadata": {},
   "outputs": [
    {
     "data": {
      "text/plain": [
       "2"
      ]
     },
     "execution_count": 30,
     "metadata": {},
     "output_type": "execute_result"
    }
   ],
   "source": [
    "np.count_nonzero(DME)"
   ]
  },
  {
   "cell_type": "code",
   "execution_count": 31,
   "metadata": {},
   "outputs": [
    {
     "data": {
      "text/plain": [
       "array([[ True, False, False,  True,  True],\n",
       "       [False, False,  True, False, False],\n",
       "       [ True, False,  True,  True, False]])"
      ]
     },
     "execution_count": 31,
     "metadata": {},
     "output_type": "execute_result"
    }
   ],
   "source": [
    "DMM = np.greater_equal(D, DM - 1) & np.less_equal(D, DM + 1)\n",
    "DMM"
   ]
  },
  {
   "cell_type": "code",
   "execution_count": 32,
   "metadata": {},
   "outputs": [
    {
     "data": {
      "text/plain": [
       "7"
      ]
     },
     "execution_count": 32,
     "metadata": {},
     "output_type": "execute_result"
    }
   ],
   "source": [
    "np.count_nonzero(DMM)"
   ]
  },
  {
   "cell_type": "code",
   "execution_count": 33,
   "metadata": {},
   "outputs": [
    {
     "data": {
      "text/plain": [
       "array([[5, 8, 1, 3, 3, 2, 2, 4, 7, 6, 4, 7, 5, 3, 6]])"
      ]
     },
     "execution_count": 33,
     "metadata": {},
     "output_type": "execute_result"
    }
   ],
   "source": [
    "D15 = np.reshape(D, (1, 15))\n",
    "D15"
   ]
  },
  {
   "cell_type": "code",
   "execution_count": 34,
   "metadata": {},
   "outputs": [
    {
     "data": {
      "text/plain": [
       "array([4, 2, 6])"
      ]
     },
     "execution_count": 34,
     "metadata": {},
     "output_type": "execute_result"
    }
   ],
   "source": [
    "index = np.array([7, 5, 9])\n",
    "D15[0][index]"
   ]
  },
  {
   "cell_type": "markdown",
   "metadata": {},
   "source": [
    "## Part B: Stock Stats (51 pts)"
   ]
  },
  {
   "cell_type": "markdown",
   "metadata": {},
   "source": [
    "### Step A: Read the Dataset"
   ]
  },
  {
   "cell_type": "code",
   "execution_count": 35,
   "metadata": {},
   "outputs": [],
   "source": [
    "# Import the needed libraries\n",
    "\n",
    "import numpy as np\n",
    "import csv\n",
    "from math import sqrt"
   ]
  },
  {
   "cell_type": "code",
   "execution_count": 36,
   "metadata": {},
   "outputs": [],
   "source": [
    "# Read in the stock data \n",
    "\n",
    "def read_stock_info(filename):\n",
    "    \"\"\"\n",
    "    1. Use a try/except block and for loops to read the dataset \n",
    "       contained in a CSV file and place it in a nested list.  Open \n",
    "       the file with the 'with open as' statement, which does not \n",
    "       require that you you explicitly close the file. Use the \n",
    "       csv.reader function: See the Working With CSV and JSON Modules \n",
    "       pdf file. Each inner list holds the data from the line in the \n",
    "       file. Each line is like a record from a database table.\n",
    "       Each element of the list is a field from a database table.\n",
    "       Each line is has field names of\n",
    "       ['Date','Open','High','Low','Close','Volume','Name']\n",
    "    2. You need to strip all whitespace from the Date and Name fields\n",
    "       You need to convert the prices (Open,High,Low,Close) to floats: \n",
    "       and the Volume to an integer\n",
    "       Traverse each record of the outer list using a for loop\n",
    "       Convert each field as specified above\n",
    "    3. Return the converted nested list  \n",
    "     \"\"\"\n",
    "    try:\n",
    "        # Using 'with open as' keeps you from having \n",
    "        # to explicitly close the file object\n",
    "        with open(filename, 'r') as input_file:\n",
    "        \n",
    "            # See CSV JSON pdf file for more informsation\n",
    "            # about reading CSV files into a Python program.      \n",
    "            stock_list = csv.reader(input_file)\n",
    "            stocks_data = list(stock_list)\n",
    "            \n",
    "            # Traverse every row (rec) in the nested stock_data list\n",
    "            for rec in range(len(stocks_data)):\n",
    "                # Strip whitespace chars from the first 0) and last(6) fields\n",
    "                for field in [0,6]:\n",
    "                    stocks_data[rec][field] = stocks_data[rec][field].strip()\n",
    "                # Convert the stock prices to floats\n",
    "                for field in range(1, 5):\n",
    "                    stocks_data[rec][field] = float(stocks_data[rec][field])\n",
    "                # Convert the volume to integer   \n",
    "                stocks_data[rec][5] = int(stocks_data[rec][5]) \n",
    "    except IOError:\n",
    "        print(\"File Not Found Error.\")    \n",
    "    \n",
    "    return stocks_data"
   ]
  },
  {
   "cell_type": "code",
   "execution_count": 37,
   "metadata": {},
   "outputs": [
    {
     "name": "stdout",
     "output_type": "stream",
     "text": [
      "\n",
      "First 10 stock records\n",
      "['1/3/2017', 115.8, 116.33, 114.76, 116.15, 28781865, 'AAPL']\n",
      "['1/4/2017', 115.85, 116.51, 115.75, 116.02, 21118116, 'AAPL']\n",
      "['1/5/2017', 115.92, 116.86, 115.81, 116.61, 22193587, 'AAPL']\n",
      "['1/6/2017', 116.78, 118.16, 116.47, 117.91, 31751900, 'AAPL']\n",
      "['1/9/2017', 117.95, 119.43, 117.94, 118.99, 33561948, 'AAPL']\n",
      "['1/10/2017', 118.77, 119.38, 118.3, 119.11, 24462051, 'AAPL']\n",
      "['1/11/2017', 118.74, 119.93, 118.6, 119.75, 27588593, 'AAPL']\n",
      "['1/12/2017', 118.9, 119.3, 118.21, 119.25, 27086220, 'AAPL']\n",
      "['1/13/2017', 119.11, 119.62, 118.81, 119.04, 26111948, 'AAPL']\n",
      "['1/17/2017', 118.34, 120.24, 118.22, 120.0, 34439843, 'AAPL']\n"
     ]
    }
   ],
   "source": [
    "# Read the stock data file\n",
    "stocks_data = read_stock_info('4stocks_1qtr.csv')\n",
    "\n",
    "# Print the first 100 stock records\n",
    "\n",
    "print(\"\\nFirst 10 stock records\")\n",
    "for rec in stocks_data[:10]:\n",
    "    print(rec)"
   ]
  },
  {
   "cell_type": "markdown",
   "metadata": {},
   "source": [
    "### Step B: Get the Month Number from the Date (4 pts)"
   ]
  },
  {
   "cell_type": "code",
   "execution_count": 38,
   "metadata": {},
   "outputs": [],
   "source": [
    "# Get the month from the date string\n",
    "# Using the string index method and string slicing\n",
    "\n",
    "def get_month(date):\n",
    "    # Use the string index method to find the first '/' in the string\n",
    "    slash_index = date.index('/')\n",
    "    \n",
    "    # Use slicing to grab the characters before the first slash\n",
    "    month_str = date[0:slash_index]\n",
    "    \n",
    "    # Convert the string to integer\n",
    "    month = int(month_str)\n",
    "        \n",
    "    return month    "
   ]
  },
  {
   "cell_type": "code",
   "execution_count": 39,
   "metadata": {},
   "outputs": [
    {
     "data": {
      "text/plain": [
       "1"
      ]
     },
     "execution_count": 39,
     "metadata": {},
     "output_type": "execute_result"
    }
   ],
   "source": [
    "# Test the function\n",
    "\n",
    "date  = '1/3/2017'\n",
    "month = get_month(date)\n",
    "month"
   ]
  },
  {
   "cell_type": "code",
   "execution_count": 40,
   "metadata": {},
   "outputs": [],
   "source": [
    "# Get the month number from the date string\n",
    "# Use the string split method to produce a list\n",
    "# Convert the first element (index 0) of the list into an integer\n",
    "# Return the integer\n",
    "\n",
    "def get_month_num(date):\n",
    "    \n",
    "    ## Add your code here ##\n",
    "    month_num = int(date.split('/')[0])    \n",
    "    return month_num  "
   ]
  },
  {
   "cell_type": "code",
   "execution_count": 41,
   "metadata": {},
   "outputs": [
    {
     "data": {
      "text/plain": [
       "1"
      ]
     },
     "execution_count": 41,
     "metadata": {},
     "output_type": "execute_result"
    }
   ],
   "source": [
    "# Test your get_month_num function:\n",
    "# First, complete the code in the above cell\n",
    "# Then convert the cell type of this cell here from Raw NBConvert to Code\n",
    "# Next, run this cell\n",
    "# The code output should be: 1\n",
    "\n",
    "date  = '01/03/2017'\n",
    "month = get_month_num(date)\n",
    "month"
   ]
  },
  {
   "cell_type": "markdown",
   "metadata": {},
   "source": [
    "### Step C: Calculate Coefficient of Variation (4 pts)"
   ]
  },
  {
   "cell_type": "code",
   "execution_count": 42,
   "metadata": {},
   "outputs": [],
   "source": [
    "# Calculate the coefficient of variation for the\n",
    "# given list of values using lists and for loops\n",
    "\n",
    "def calc_coeff_var(values):\n",
    "    \"\"\"\n",
    "    Calculates the standard deviation from the mean for a list of values\n",
    "    \"\"\"\n",
    "    mean = sum(values) / len(values)\n",
    "    \n",
    "    diffs = []\n",
    "    for x in values:\n",
    "        diffs.append(x - mean)\n",
    "        \n",
    "    squ_diffs = []\n",
    "    for d in diffs:\n",
    "        squ_diffs.append(d**2)\n",
    "\n",
    "    std_dev = sqrt(sum(squ_diffs) / len(values))\n",
    "    coeff_var = std_dev / mean\n",
    "    \n",
    "    return coeff_var"
   ]
  },
  {
   "cell_type": "code",
   "execution_count": 43,
   "metadata": {},
   "outputs": [
    {
     "data": {
      "text/plain": [
       "0.005252146568184989"
      ]
     },
     "execution_count": 43,
     "metadata": {},
     "output_type": "execute_result"
    }
   ],
   "source": [
    "# Test the function\n",
    "\n",
    "values = [115.8, 116.33, 114.76, 116.15]\n",
    "calc_coeff_var(values)"
   ]
  },
  {
   "cell_type": "code",
   "execution_count": 44,
   "metadata": {},
   "outputs": [],
   "source": [
    "# Calculate the coefficient of variation \n",
    "# for the given list of values using the given mean\n",
    "\n",
    "def calc_coeff_var_lc(values):\n",
    "    \"\"\"\n",
    "    Calculates the standard deviation from the mean for a list of values\n",
    "    Here is the coversion from the calc_coeff_var function\n",
    "    to the calc_coeff_var_lc function: It is a many step process    \n",
    "    \n",
    "    #1.\n",
    "    mean = sum(values) / len(values)\n",
    "    diffs = []\n",
    "    for x in values:\n",
    "        diffs.append(x - mean)\n",
    "    \n",
    "    Becomes\n",
    "    \n",
    "    mean = sum(values) / len(values)\n",
    "    diffs = [x - mean for x in values]\n",
    "        \n",
    "    #2. \n",
    "    squ_diffs = []\n",
    "    for d in diffs:\n",
    "        squ_diffs.append(d**2)\n",
    "    \n",
    "    Becomes\n",
    "    \n",
    "    squ_diffs = [d**2 for d in diffs] \n",
    "    \n",
    "    #3. \n",
    "    Putting #1 and #2 together: \n",
    "    diffs = [x - mean for x in values]\n",
    "    squ_diffs = [d**2 for d in diffs]\n",
    "    \n",
    "    Becomes\n",
    "    \n",
    "    squ_diffs = [d**2 for d in [x - mean for x in values]]\n",
    "        \n",
    "    #4. \n",
    "    Putting std_dev with #3 together: \n",
    "    \n",
    "    std_dev = sqrt(sum(squ_diffs) / len(values))\n",
    "    squ_diffs = [d**2 for d in [x - mean for x in values]]\n",
    "    \n",
    "    Becomes\n",
    "     \n",
    "    std_dev = sqrt(sum([d ** 2 for d in [x - mean for x in values]]) / len(values)) \n",
    "    \n",
    "    #5.\n",
    "    Change sum function argument to a generator expression: becomes\n",
    "     \n",
    "    std_dev = sqrt(sum(d ** 2 for d in [x - mean for x in values]) / len(values))\n",
    "    \n",
    "    #6.\n",
    "    Putting coeff_var with #5 together:\n",
    "    \n",
    "    coeff_var = std_dev / mean \n",
    "    # becomes\n",
    "    \"\"\"\n",
    "    mean = sum(values) / len(values)\n",
    "    coeff_var = sqrt(sum(d ** 2 for d in [x - mean for x in values]) / len(values)) / mean\n",
    "    return coeff_var"
   ]
  },
  {
   "cell_type": "code",
   "execution_count": 45,
   "metadata": {},
   "outputs": [
    {
     "data": {
      "text/plain": [
       "0.005252146568184989"
      ]
     },
     "execution_count": 45,
     "metadata": {},
     "output_type": "execute_result"
    }
   ],
   "source": [
    "# Test the function\n",
    "\n",
    "values = [115.8, 116.33, 114.76, 116.15]\n",
    "calc_coeff_var_lc(values)"
   ]
  },
  {
   "cell_type": "code",
   "execution_count": 46,
   "metadata": {},
   "outputs": [],
   "source": [
    "# Calculate the coefficient of variation for the\n",
    "# given list of values using just NumPy constructs\n",
    "# This can be done with one line of code\n",
    "\n",
    "def calc_coeff_var_np(values):\n",
    "    \n",
    "    ## Add your code here ##\n",
    "    coeff_var = np.std(values) / np.mean(values)\n",
    "    \n",
    "    return coeff_var"
   ]
  },
  {
   "cell_type": "code",
   "execution_count": 47,
   "metadata": {},
   "outputs": [
    {
     "data": {
      "text/plain": [
       "0.005252146568184989"
      ]
     },
     "execution_count": 47,
     "metadata": {},
     "output_type": "execute_result"
    }
   ],
   "source": [
    "# Test your calc_coeff_var_np function:\n",
    "# First, complete the code in the above cell\n",
    "# Then convert the cell type of this cell here from Raw NBConvert to Code\n",
    "# Next, run this cell\n",
    "# The code output should be the same output as in the \n",
    "# calc_coeff_var and calc_coeff_var_lc fyunctions\n",
    "\n",
    "values = [115.8, 116.33, 114.76, 116.15]\n",
    "calc_coeff_var_np(values)"
   ]
  },
  {
   "cell_type": "markdown",
   "metadata": {},
   "source": [
    "### Step D: Modify the Stocks Data Nested List (4 pts)"
   ]
  },
  {
   "cell_type": "raw",
   "metadata": {},
   "source": [
    "# rec: ['Date', Open, High, Low, Close, Volume, 'Name']\n",
    "# Replace the 'Date' Field with the 'Month' field\n",
    "# Add the 'CoeffVar' Field before the 'Volume' field\n",
    "# New rec: [Month, Open, High, Low, Close, CoeffVar, Volume, 'Name']\n",
    "\n",
    "def modify_stocks(stocks_data):    \n",
    "    for rec in stocks_data:\n",
    "        # Get month\n",
    "        month = get_month(rec[0])\n",
    "        \n",
    "        # Calculate coefficient of variation\n",
    "        values = rec[1:5]\n",
    "        coeff_var = calc_coeff_var_lc(values)\n",
    "        \n",
    "        # Overlay Date with Month\n",
    "        rec[0] = month\n",
    "                \n",
    "        # Insert CoeffVar\n",
    "        rec.insert(5, coeff_var)\n",
    "        \n",
    "    return stocks_data    "
   ]
  },
  {
   "cell_type": "raw",
   "metadata": {},
   "source": [
    "# Modify the stock_data nested list\n",
    "stocks_data = modify_stocks(stocks_data)\n",
    "\n",
    "# Print the first 10 stock records\n",
    "print(\"\\nFirst 10 stock records\")\n",
    "for rec in stocks_data[:10]:\n",
    "    print(rec)"
   ]
  },
  {
   "cell_type": "raw",
   "metadata": {},
   "source": [
    "This is the output from the above modify_stocks function:\n",
    "First 10 stock records\n",
    "[1, 115.8, 116.33, 114.76, 116.15, 0.005252146568184989, 28781865, 'AAPL']\n",
    "[1, 115.85, 116.51, 115.75, 116.02, 0.002517344148881291, 21118116, 'AAPL']\n",
    "[1, 115.92, 116.86, 115.81, 116.61, 0.003831380027370804, 22193587, 'AAPL']\n",
    "[1, 116.78, 118.16, 116.47, 117.91, 0.00612735707247605, 31751900, 'AAPL']\n",
    "[1, 117.95, 119.43, 117.94, 118.99, 0.005493109197945443, 33561948, 'AAPL']\n",
    "[1, 118.77, 119.38, 118.3, 119.11, 0.0033932446385641015, 24462051, 'AAPL']\n",
    "[1, 118.74, 119.93, 118.6, 119.75, 0.004951821084933229, 27588593, 'AAPL']\n",
    "[1, 118.9, 119.3, 118.21, 119.25, 0.0036600077731633075, 27086220, 'AAPL']\n",
    "[1, 119.11, 119.62, 118.81, 119.04, 0.002483077291113693, 26111948, 'AAPL']\n",
    "[1, 118.34, 120.24, 118.22, 120.0, 0.007759046731390498, 34439843, 'AAPL']"
   ]
  },
  {
   "cell_type": "code",
   "execution_count": 48,
   "metadata": {},
   "outputs": [],
   "source": [
    "# rec: ['Date', Open, High, Low, Close, Volume, 'Name']\n",
    "# Replace the 'Date' Field with the 'Month' field\n",
    "# Add the 'CoeffVar' Field before the 'Volume' field\n",
    "# New rec: [Month, Open, High, Low, Close, \n",
    "#           CoeffVar, Volume, 'Name']\n",
    "\n",
    "def modify_stocks_data(stocks_data):    \n",
    "        \n",
    "    ## Add your code here ##\n",
    "    for rec in stocks_data:\n",
    "        rec[0] = get_month(rec[0])\n",
    "        rec.insert(5, calc_coeff_var_np(rec[1:5]))\n",
    "    \n",
    "    return stocks_data"
   ]
  },
  {
   "cell_type": "code",
   "execution_count": 49,
   "metadata": {},
   "outputs": [
    {
     "name": "stdout",
     "output_type": "stream",
     "text": [
      "\n",
      "First 10 stock records\n",
      "[1, 115.8, 116.33, 114.76, 116.15, 0.005252146568184989, 28781865, 'AAPL']\n",
      "[1, 115.85, 116.51, 115.75, 116.02, 0.002517344148881291, 21118116, 'AAPL']\n",
      "[1, 115.92, 116.86, 115.81, 116.61, 0.003831380027370804, 22193587, 'AAPL']\n",
      "[1, 116.78, 118.16, 116.47, 117.91, 0.00612735707247605, 31751900, 'AAPL']\n",
      "[1, 117.95, 119.43, 117.94, 118.99, 0.005493109197945443, 33561948, 'AAPL']\n",
      "[1, 118.77, 119.38, 118.3, 119.11, 0.0033932446385641015, 24462051, 'AAPL']\n",
      "[1, 118.74, 119.93, 118.6, 119.75, 0.004951821084933229, 27588593, 'AAPL']\n",
      "[1, 118.9, 119.3, 118.21, 119.25, 0.0036600077731633075, 27086220, 'AAPL']\n",
      "[1, 119.11, 119.62, 118.81, 119.04, 0.002483077291113693, 26111948, 'AAPL']\n",
      "[1, 118.34, 120.24, 118.22, 120.0, 0.007759046731390498, 34439843, 'AAPL']\n"
     ]
    }
   ],
   "source": [
    "# Test your modify_stocks_data function:\n",
    "# First, note the output from the second cell of this Step D\n",
    "#        it is in the third cell in this Step in Raw NBConvert format\n",
    "# Then complete the code in the above cell \n",
    "# Next, convert the cell type of this cell here from Raw NBConvert to Code\n",
    "# Then run this cell\n",
    "# Make sure your output matches the modify_stocks function output\n",
    "# You will get an error, if you run both modify_stocks and modify_stocks_data\n",
    "\n",
    "stocks_data = modify_stocks_data(stocks_data)\n",
    "\n",
    "# Print the first 10 stock records\n",
    "\n",
    "print(\"\\nFirst 10 stock records\")\n",
    "for rec in stocks_data[:10]:\n",
    "    print(rec)"
   ]
  },
  {
   "cell_type": "markdown",
   "metadata": {},
   "source": [
    "### Step E: Create Sorted Stock List (7 pts)"
   ]
  },
  {
   "cell_type": "code",
   "execution_count": 50,
   "metadata": {},
   "outputs": [],
   "source": [
    "# Create a unique list of the stock names by extracting\n",
    "# the names from the last field in each record and \n",
    "# placing them in a list using a list comprehension. \n",
    "# Next, the NumPy unique function is used to create \n",
    "# a NumPy array of sorted unique names from the list.\n",
    "# The NumPy array is then converted into a list\n",
    "\n",
    "def get_sorted_stock_list_np(stocks_data):\n",
    "   \n",
    "    stock_list = [rec[-1] for rec in stocks_data]\n",
    "    stock_list = list(np.unique(stock_list))\n",
    "    return stock_list"
   ]
  },
  {
   "cell_type": "code",
   "execution_count": 51,
   "metadata": {},
   "outputs": [
    {
     "name": "stdout",
     "output_type": "stream",
     "text": [
      "\n",
      "Sorted Stock List\n",
      "\n",
      "['AAPL', 'GOOGL', 'IBM', 'ORCL']\n"
     ]
    }
   ],
   "source": [
    "# Print the sorted stock names\n",
    "\n",
    "stock_list = get_sorted_stock_list_np(stocks_data)\n",
    "\n",
    "print(\"\\nSorted Stock List\\n\")\n",
    "print(stock_list) "
   ]
  },
  {
   "cell_type": "code",
   "execution_count": 52,
   "metadata": {},
   "outputs": [],
   "source": [
    "# Create a unique list of the stock names by extracting\n",
    "# the names from the last field in each record and \n",
    "# placing them in a set.\n",
    "# The set will store only unique values\n",
    "# Convert the set to a list and sort the list\n",
    "\n",
    "def get_sorted_stock_list(stocks_data):\n",
    "    \"\"\"  \n",
    "    Creates a sorted list of stock names    \n",
    "    \"\"\"\n",
    "    stock_set = set()\n",
    "    for rec in stocks_data:\n",
    "        stock_set.add(rec[-1])\n",
    "    \n",
    "    stock_list = list(stock_set)    \n",
    "    stock_list.sort()        \n",
    "    return stock_list"
   ]
  },
  {
   "cell_type": "code",
   "execution_count": 53,
   "metadata": {},
   "outputs": [
    {
     "name": "stdout",
     "output_type": "stream",
     "text": [
      "\n",
      "Sorted Stock List\n",
      "\n",
      "['AAPL', 'GOOGL', 'IBM', 'ORCL']\n"
     ]
    }
   ],
   "source": [
    "# Print the sorted stock names\n",
    "\n",
    "stock_list = get_sorted_stock_list(stocks_data)\n",
    "\n",
    "print(\"\\nSorted Stock List\\n\")\n",
    "print(stock_list)"
   ]
  },
  {
   "cell_type": "code",
   "execution_count": 54,
   "metadata": {},
   "outputs": [],
   "source": [
    "# Create a unique list of the stock names by extracting\n",
    "# the names from the last field in each record and \n",
    "# placing them in a set using a set comprehension.\n",
    "# The set will store only unique values\n",
    "# Convert the set to a list and sort the list\n",
    "\n",
    "def get_sorted_stock_list_sc(stocks_data):\n",
    "    \n",
    "    ## Add your code here ##\n",
    "    stock_list = list({rec[-1] for rec in stocks_data})\n",
    "    stock_list.sort()\n",
    "    return stock_list"
   ]
  },
  {
   "cell_type": "code",
   "execution_count": 55,
   "metadata": {},
   "outputs": [
    {
     "name": "stdout",
     "output_type": "stream",
     "text": [
      "\n",
      "Sorted Stock List\n",
      "\n",
      "['AAPL', 'GOOGL', 'IBM', 'ORCL']\n"
     ]
    }
   ],
   "source": [
    "# Test your get_sorted_stock_list_sc function and print the sorted stock names\n",
    "# First, note the output from running the get_sorted_stock_list_np function\n",
    "# or the get_sorted_stock_list function\n",
    "# Then complete the code in the above cell \n",
    "# Next, convert the cell type of this cell here from Raw NBConvert to Code\n",
    "# Then run this cell\n",
    "# Make sure your output matches the get_sorted_stock_list_np function\n",
    "# and the get_sorted_stock_list function output\n",
    "\n",
    "stock_list = get_sorted_stock_list_sc(stocks_data)\n",
    "\n",
    "print(\"\\nSorted Stock List\\n\")\n",
    "print(stock_list)  "
   ]
  },
  {
   "cell_type": "markdown",
   "metadata": {},
   "source": [
    "### Step F: Extract Only One Stock from the Nested List (7 pts)"
   ]
  },
  {
   "cell_type": "code",
   "execution_count": 56,
   "metadata": {},
   "outputs": [],
   "source": [
    "# Rec: [Month, Open, High, Low, Close, CoeffVar, Volume, 'Name']\n",
    "#\n",
    "# Extract from the stocks_data nested list only \n",
    "# those records pertaining to a particular stock\n",
    "# Use for loops \n",
    "# Remove the stock Name from the record appending only the first seven fields\n",
    "# \n",
    "# New Rec: [Month, Open, High, Low, Close, CoeffVar, Volume]\n",
    "\n",
    "def extract_stock(stocks_data, stock):    \n",
    "    stock_data = []    \n",
    "    for rec in stocks_data:\n",
    "        if rec[-1] == stock:\n",
    "            stock_data.append(rec[:-1])\n",
    "    \n",
    "    return stock_data"
   ]
  },
  {
   "cell_type": "code",
   "execution_count": 57,
   "metadata": {},
   "outputs": [
    {
     "name": "stdout",
     "output_type": "stream",
     "text": [
      "Stock Data For AAPL\n",
      "\n",
      "First 10 stock records\n",
      "[1, 115.8, 116.33, 114.76, 116.15, 0.005252146568184989, 28781865]\n",
      "[1, 115.85, 116.51, 115.75, 116.02, 0.002517344148881291, 21118116]\n",
      "[1, 115.92, 116.86, 115.81, 116.61, 0.003831380027370804, 22193587]\n",
      "[1, 116.78, 118.16, 116.47, 117.91, 0.00612735707247605, 31751900]\n",
      "[1, 117.95, 119.43, 117.94, 118.99, 0.005493109197945443, 33561948]\n",
      "[1, 118.77, 119.38, 118.3, 119.11, 0.0033932446385641015, 24462051]\n",
      "[1, 118.74, 119.93, 118.6, 119.75, 0.004951821084933229, 27588593]\n",
      "[1, 118.9, 119.3, 118.21, 119.25, 0.0036600077731633075, 27086220]\n",
      "[1, 119.11, 119.62, 118.81, 119.04, 0.002483077291113693, 26111948]\n",
      "[1, 118.34, 120.24, 118.22, 120.0, 0.007759046731390498, 34439843]\n"
     ]
    }
   ],
   "source": [
    "# Extract the particular stock data\n",
    "\n",
    "stock = 'AAPL'\n",
    "print(\"Stock Data For\", stock)\n",
    "stock_data = extract_stock(stocks_data, stock)\n",
    "\n",
    "# Print ten records\n",
    "\n",
    "print(\"\\nFirst 10 stock records\")\n",
    "for rec in stock_data[:10]:\n",
    "    print(rec)"
   ]
  },
  {
   "cell_type": "code",
   "execution_count": 58,
   "metadata": {},
   "outputs": [],
   "source": [
    "# Rec: [Month, Open, High, Low, Close, CoeffVar, Volume, 'Name']\n",
    "#\n",
    "# Extract from the stocks_data nested list only \n",
    "# those records pertaining to a particular stock\n",
    "# Use a list comprehension \n",
    "# Remove the stock Name from the record appending only the first seven fields\n",
    "# \n",
    "# New Rec: [Month, Open, High, Low, Close, CoeffVar, Volume]\n",
    "\n",
    "def extract_stock_lc(stocks_data, stock):\n",
    "       \n",
    "    ## Add your code here ##\n",
    "    stock_data = [rec[:-1] for rec in stocks_data if rec[-1] == stock]\n",
    "    \n",
    "    return stock_data"
   ]
  },
  {
   "cell_type": "code",
   "execution_count": 59,
   "metadata": {},
   "outputs": [
    {
     "name": "stdout",
     "output_type": "stream",
     "text": [
      "Stock Data For AAPL\n",
      "\n",
      "First 10 stock records\n",
      "[1, 115.8, 116.33, 114.76, 116.15, 0.005252146568184989, 28781865]\n",
      "[1, 115.85, 116.51, 115.75, 116.02, 0.002517344148881291, 21118116]\n",
      "[1, 115.92, 116.86, 115.81, 116.61, 0.003831380027370804, 22193587]\n",
      "[1, 116.78, 118.16, 116.47, 117.91, 0.00612735707247605, 31751900]\n",
      "[1, 117.95, 119.43, 117.94, 118.99, 0.005493109197945443, 33561948]\n",
      "[1, 118.77, 119.38, 118.3, 119.11, 0.0033932446385641015, 24462051]\n",
      "[1, 118.74, 119.93, 118.6, 119.75, 0.004951821084933229, 27588593]\n",
      "[1, 118.9, 119.3, 118.21, 119.25, 0.0036600077731633075, 27086220]\n",
      "[1, 119.11, 119.62, 118.81, 119.04, 0.002483077291113693, 26111948]\n",
      "[1, 118.34, 120.24, 118.22, 120.0, 0.007759046731390498, 34439843]\n"
     ]
    }
   ],
   "source": [
    "# Test your extract_stock_lc function:\n",
    "# First, note the output from the extract_stock function\n",
    "# Then complete the code in the above cell \n",
    "# Next, convert the cell type of this cell here from Raw NBConvert to Code\n",
    "# Then run this cell\n",
    "# Make sure your output matches the extract_stock function output\n",
    "\n",
    "stock = 'AAPL'\n",
    "print(\"Stock Data For\", stock)\n",
    "stock_data = extract_stock_lc(stocks_data, stock)\n",
    "\n",
    "# Print ten records\n",
    "\n",
    "print(\"\\nFirst 10 stock records\")\n",
    "for rec in stock_data[:10]:\n",
    "    print(rec)                                                                                                              "
   ]
  },
  {
   "cell_type": "markdown",
   "metadata": {},
   "source": [
    "### Step G: Extract Only One Month from the Stock Nested List (7 pts)"
   ]
  },
  {
   "cell_type": "code",
   "execution_count": 60,
   "metadata": {},
   "outputs": [],
   "source": [
    "# Extract from the stock_data nested list for the particular stock\n",
    "# only those records pertaining to a particular month, \n",
    "# This uses a list comprehension\n",
    "# Rec: [Month, Open, High, Low, Close, CoeffVar, Volume]\n",
    "\n",
    "def extract_month_lc(stock_data, month): \n",
    "    \n",
    "    stock_mon_data = [rec for rec in stock_data if rec[0] == month]    \n",
    "    \n",
    "    return stock_mon_data"
   ]
  },
  {
   "cell_type": "code",
   "execution_count": 61,
   "metadata": {},
   "outputs": [
    {
     "name": "stdout",
     "output_type": "stream",
     "text": [
      "\n",
      "First 10 stock records\n",
      "[1, 115.8, 116.33, 114.76, 116.15, 0.005252146568184989, 28781865]\n",
      "[1, 115.85, 116.51, 115.75, 116.02, 0.002517344148881291, 21118116]\n",
      "[1, 115.92, 116.86, 115.81, 116.61, 0.003831380027370804, 22193587]\n",
      "[1, 116.78, 118.16, 116.47, 117.91, 0.00612735707247605, 31751900]\n",
      "[1, 117.95, 119.43, 117.94, 118.99, 0.005493109197945443, 33561948]\n",
      "[1, 118.77, 119.38, 118.3, 119.11, 0.0033932446385641015, 24462051]\n",
      "[1, 118.74, 119.93, 118.6, 119.75, 0.004951821084933229, 27588593]\n",
      "[1, 118.9, 119.3, 118.21, 119.25, 0.0036600077731633075, 27086220]\n",
      "[1, 119.11, 119.62, 118.81, 119.04, 0.002483077291113693, 26111948]\n",
      "[1, 118.34, 120.24, 118.22, 120.0, 0.007759046731390498, 34439843]\n"
     ]
    }
   ],
   "source": [
    "# Test the function\n",
    "# Extract the particular stock month data\n",
    "\n",
    "month = 1\n",
    "stock_mon_data = extract_month_lc(stock_data, month)\n",
    "\n",
    "# Print ten records\n",
    "print (\"\\nFirst 10 stock records\")\n",
    "for rec in stock_mon_data[:10]:\n",
    "    print(rec)"
   ]
  },
  {
   "cell_type": "code",
   "execution_count": 62,
   "metadata": {},
   "outputs": [],
   "source": [
    "# Extract from the stock_data nested list for the particular stock\n",
    "# only those records pertaining to a particular month, \n",
    "# using lists and for loops\n",
    "# Rec: [Month, Open, High, Low, Close, CoeffVar, Volume]\n",
    "\n",
    "def extract_month(stock_data, month):\n",
    "            \n",
    "    ## Add your code here ##\n",
    "    stock_mon_data = []\n",
    "    for rec in stock_data:\n",
    "        if month == rec[0]:\n",
    "            stock_mon_data.append(rec)\n",
    "    \n",
    "    return stock_mon_data"
   ]
  },
  {
   "cell_type": "code",
   "execution_count": 63,
   "metadata": {},
   "outputs": [
    {
     "name": "stdout",
     "output_type": "stream",
     "text": [
      "\n",
      "First 10 stock records\n",
      "[1, 115.8, 116.33, 114.76, 116.15, 0.005252146568184989, 28781865]\n",
      "[1, 115.85, 116.51, 115.75, 116.02, 0.002517344148881291, 21118116]\n",
      "[1, 115.92, 116.86, 115.81, 116.61, 0.003831380027370804, 22193587]\n",
      "[1, 116.78, 118.16, 116.47, 117.91, 0.00612735707247605, 31751900]\n",
      "[1, 117.95, 119.43, 117.94, 118.99, 0.005493109197945443, 33561948]\n",
      "[1, 118.77, 119.38, 118.3, 119.11, 0.0033932446385641015, 24462051]\n",
      "[1, 118.74, 119.93, 118.6, 119.75, 0.004951821084933229, 27588593]\n",
      "[1, 118.9, 119.3, 118.21, 119.25, 0.0036600077731633075, 27086220]\n",
      "[1, 119.11, 119.62, 118.81, 119.04, 0.002483077291113693, 26111948]\n",
      "[1, 118.34, 120.24, 118.22, 120.0, 0.007759046731390498, 34439843]\n"
     ]
    }
   ],
   "source": [
    "# Test your extract_month function:\n",
    "# First, note the output from the extract_month_lc function\n",
    "# Then complete the code in the above cell \n",
    "# Next, convert the cell type of this cell here from Raw NBConvert to Code\n",
    "# Then run this cell\n",
    "# Make sure your output matches the extract_month_lc function output\n",
    "\n",
    "month = 1\n",
    "stock_mon_data = extract_month(stock_data, month)\n",
    "\n",
    "# Print ten records\n",
    "print(\"\\nFirst 10 stock records\")\n",
    "for rec in stock_mon_data[:10]:\n",
    "    print(rec)"
   ]
  },
  {
   "cell_type": "markdown",
   "metadata": {},
   "source": [
    "### Step H: Calculate the Stock Statistics and Place in Nested List (6 pts)"
   ]
  },
  {
   "cell_type": "code",
   "execution_count": 64,
   "metadata": {},
   "outputs": [],
   "source": [
    "# Rec: [Month, Open, High, Low, Close, CoeffVar, Volume]\n",
    "# Calculate the stock stats for each stock \n",
    "# and place them in a nested list:\n",
    "# This function uses the provided code\n",
    "# ['Name', JanPerf, JanVol, FebPerf, FebVol, MarPerf, MarVol, QtrPerf, QtrVol]\n",
    "\n",
    "def calc_stock_stats(stocks_data):\n",
    "    stocks_stats = []\n",
    "    \n",
    "    # Get Sorted Stock List\n",
    "    stock_list = get_sorted_stock_list_np(stocks_data)\n",
    "    \n",
    "    # Traverse Stock List ['AAPL', 'GOOGL', IBM', 'ORCL'] to \n",
    "    # Extract All Stock Rows\n",
    "    for stock in stock_list:\n",
    "        \n",
    "        stock_stats = []\n",
    "        \n",
    "        # Build Stock_Stats inner list\n",
    "        stock_stats.append(stock)\n",
    "        \n",
    "        # Get All Rows Pertaining to a Certain Stock\n",
    "        stock_data = extract_stock(stocks_data, stock)\n",
    "        \n",
    "        # Convert the Nested List into a NumPy Array\n",
    "        qtr_array = np.array(stock_data)\n",
    "        \n",
    "        # Calculate Stock Volatility For Quarter\n",
    "        # Grab the CoeffVar column for the stock\n",
    "        # All rows and sixth column\n",
    "        cov_col = qtr_array[:, 5]\n",
    "        \n",
    "        # Find the average of the CoeffVar column\n",
    "        qtr_volatility = np.mean(cov_col) \n",
    "        \n",
    "        # Calculate the Quarter Performance For the Stock\n",
    "        # Get the index of the last row in CoeffVar column\n",
    "        last_row = cov_col.size - 1\n",
    "        \n",
    "        # Get the price of the stock at the start of the quarter\n",
    "        # First row and second column \n",
    "        open_qtr = qtr_array[0, 1]\n",
    "        \n",
    "        # Get the price of the stock at the end of the quarter\n",
    "        # Last row and fifth column \n",
    "        close_qtr = qtr_array[last_row, 4]\n",
    "        \n",
    "        # Calculate the stock performance for the quarter\n",
    "        qtr_perf = (close_qtr - open_qtr) / open_qtr\n",
    "            \n",
    "        # For Each Month in the Quarter\n",
    "        for month in range(1,4):\n",
    "            \n",
    "            # Get All Rows Pertaining to a Certain Stock and Month\n",
    "            stock_mon_data = extract_month_lc(stock_data, month)\n",
    "            \n",
    "            # Convert the Nested List into a NumPy Array\n",
    "            month_array = np.array(stock_mon_data)\n",
    "            \n",
    "            # Calculate Stock Volatility For Month\n",
    "            # Grab the CoeffVar column for the stock\n",
    "            # All rows and sixth column\n",
    "            cov_col = month_array[:, 5]\n",
    "            \n",
    "            # Find the average of the CoeffVar column\n",
    "            mon_volatility = np.mean(cov_col)     \n",
    "            \n",
    "            # Calculate the Month Performance For the Stock\n",
    "            # Get the index of the last row in CoeffVar column\n",
    "            last_row = cov_col.size - 1\n",
    "            \n",
    "            # Get the price of the stock at the start of the month\n",
    "            # First row and second column\n",
    "            open_mon = month_array[0, 1]\n",
    "            \n",
    "            # Get the price of the stock at the end of the month\n",
    "            # Last row and fifth column\n",
    "            close_mon = month_array[last_row, 4]\n",
    "            \n",
    "            # Calculate the stock performance for the month\n",
    "            mon_perf = (close_mon - open_mon) / open_mon\n",
    "            \n",
    "            # Build Stock_Stats month inner list\n",
    "            stock_stats.append(mon_perf)\n",
    "            stock_stats.append(mon_volatility)\n",
    "            \n",
    "        # Build Stock_Stats quarter inner list\n",
    "        stock_stats.append(qtr_perf)\n",
    "        stock_stats.append(qtr_volatility)\n",
    "        \n",
    "        # Build Stock_Stats nested list\n",
    "        stocks_stats.append(stock_stats)\n",
    "        \n",
    "    return stocks_stats        "
   ]
  },
  {
   "cell_type": "code",
   "execution_count": 65,
   "metadata": {},
   "outputs": [
    {
     "name": "stdout",
     "output_type": "stream",
     "text": [
      "\n",
      "Stock records\n",
      "['AAPL', 0.04792746113989635, 0.0038063818372243824, 0.07840667558844373, 0.004104691494182056, 0.04184494887228959, 0.004449168670230453, 0.24058721934369603, 0.004136252492729792]\n",
      "\n",
      "['GOOGL', 0.024443556243911032, 0.0050996002450909295, 0.025400485436893144, 0.003520094170776388, -0.004204937865582984, 0.004200463279050654, 0.05892932976942863, 0.004282007251044113]\n",
      "\n",
      "['IBM', 0.04502994011976054, 0.005821552290947118, 0.027542857142857105, 0.004091956342038601, -0.0351285460992908, 0.004011643526433857, 0.04275449101796399, 0.004620097055252492]\n",
      "\n",
      "['ORCL', 0.04317295188556558, 0.0047110415421785954, 0.058925907508702254, 0.004716111192834354, 0.043508771929824545, 0.004378410004049176, 0.1602080624187255, 0.004589199574202511]\n",
      "\n"
     ]
    }
   ],
   "source": [
    "# Run the function to produce the stock_stats nested list\n",
    "stock_stats = calc_stock_stats(stocks_data)\n",
    "\n",
    "print(\"\\nStock records\")\n",
    "for rec in stock_stats:\n",
    "    print(rec)\n",
    "    print()"
   ]
  },
  {
   "cell_type": "code",
   "execution_count": 66,
   "metadata": {},
   "outputs": [],
   "source": [
    "# Rec: [Month, Open, High, Low, Close, CoeffVar, Volume]\n",
    "\n",
    "# Calculate the stock stats for each stock \n",
    "# and place them in a nested list:\n",
    "# This function uses the code that you were required to write\n",
    "# It is identical to calc_stock_stats, except for the replacement of some of the function calls\n",
    "\n",
    "# ['Name', JanPerf, JanVol, FebPerf, FebVol, MarPerf, MarVol, QtrPerf, QtrVol]\n",
    "\n",
    "def calc_stock_stats_new(stocks_data):\n",
    "    stocks_stats = []\n",
    "    \n",
    "    stock_list = get_sorted_stock_list_sc(stocks_data)\n",
    "\n",
    "    for stock in stock_list:\n",
    "        \n",
    "        stock_stats = []\n",
    "        \n",
    "        stock_stats.append(stock)\n",
    "        \n",
    "        stock_data = extract_stock_lc(stocks_data, stock)\n",
    "        \n",
    "        qtr_array = np.array(stock_data)\n",
    "\n",
    "        cov_col = qtr_array[:, 5]\n",
    "        \n",
    "        qtr_volatility = np.mean(cov_col) \n",
    "        \n",
    "        last_row = cov_col.size - 1\n",
    "        \n",
    "        open_qtr = qtr_array[0, 1]\n",
    "\n",
    "        close_qtr = qtr_array[last_row, 4]\n",
    "\n",
    "        qtr_perf = (close_qtr - open_qtr) / open_qtr\n",
    "\n",
    "        for month in range(1,4):\n",
    "            \n",
    "            stock_mon_data = extract_month(stock_data, month)\n",
    "            \n",
    "            month_array = np.array(stock_mon_data)\n",
    "            \n",
    "            cov_col = month_array[:, 5]\n",
    "\n",
    "            mon_volatility = np.mean(cov_col)         \n",
    "\n",
    "            last_row = cov_col.size - 1\n",
    "            \n",
    "            open_mon = month_array[0, 1]\n",
    "\n",
    "            close_mon = month_array[last_row, 4]\n",
    "            \n",
    "            mon_perf = (close_mon - open_mon) / open_mon\n",
    "\n",
    "            stock_stats.append(mon_perf)\n",
    "            stock_stats.append(mon_volatility)\n",
    "\n",
    "        stock_stats.append(qtr_perf)\n",
    "        stock_stats.append(qtr_volatility)\n",
    "\n",
    "        stocks_stats.append(stock_stats)\n",
    "        \n",
    "    return stocks_stats          "
   ]
  },
  {
   "cell_type": "code",
   "execution_count": 67,
   "metadata": {},
   "outputs": [
    {
     "name": "stdout",
     "output_type": "stream",
     "text": [
      "\n",
      "Stock records\n",
      "['AAPL', 0.04792746113989635, 0.0038063818372243824, 0.07840667558844373, 0.004104691494182056, 0.04184494887228959, 0.004449168670230453, 0.24058721934369603, 0.004136252492729792]\n",
      "\n",
      "['GOOGL', 0.024443556243911032, 0.0050996002450909295, 0.025400485436893144, 0.003520094170776388, -0.004204937865582984, 0.004200463279050654, 0.05892932976942863, 0.004282007251044113]\n",
      "\n",
      "['IBM', 0.04502994011976054, 0.005821552290947118, 0.027542857142857105, 0.004091956342038601, -0.0351285460992908, 0.004011643526433857, 0.04275449101796399, 0.004620097055252492]\n",
      "\n",
      "['ORCL', 0.04317295188556558, 0.0047110415421785954, 0.058925907508702254, 0.004716111192834354, 0.043508771929824545, 0.004378410004049176, 0.1602080624187255, 0.004589199574202511]\n",
      "\n"
     ]
    }
   ],
   "source": [
    "# Test your calc_stock_stats_new function:\n",
    "# First, note the output from the calc_stock_stats function\n",
    "# Then complete the code in the above cell \n",
    "# Next, convert the cell type of this cell here from Raw NBConvert to Code\n",
    "# Then run this cell\n",
    "# Make sure your output matches the calc_stock_stats function output\n",
    "\n",
    "stock_stats = calc_stock_stats_new(stocks_data)\n",
    "print(\"\\nStock records\")\n",
    "for rec in stock_stats:\n",
    "    print(rec)\n",
    "    print()"
   ]
  },
  {
   "cell_type": "markdown",
   "metadata": {},
   "source": [
    "### Step I: Print the Stock Statistics"
   ]
  },
  {
   "cell_type": "code",
   "execution_count": 68,
   "metadata": {},
   "outputs": [],
   "source": [
    "# Print the stock stats for each stock \n",
    "# ['Name', JanPerf, JanVol, FebPerf, FebVol, \n",
    "#          MarPerf, MarVol, QtrPerf, QtrVol]\n",
    "\n",
    "def print_stock_stats(stock_stats):\n",
    "    for stock in stock_stats:\n",
    "        print(\"Statistics For\", stock[0])\n",
    "        print(\"Jan Perfomance\", '{:6.4f}'.format(stock[1]), \n",
    "              \"Jan Volatility\", '{:8.6f}'.format(stock[2]))\n",
    "        print(\"Feb Perfomance\", '{:6.4f}'.format(stock[3]), \n",
    "              \"Feb Volatility\", '{:8.6f}'.format(stock[4]))\n",
    "        print(\"Mar Perfomance\", '{:6.4f}'.format(stock[5]), \n",
    "              \"Mar Volatility\", '{:8.6f}'.format(stock[6]))\n",
    "        print(\"1st Qtr Perfomance\", '{:6.4f}'.format(stock[7]), \n",
    "              \"1st Qtr Volatility\", '{:8.6f}'.format(stock[8]))\n",
    "        print()"
   ]
  },
  {
   "cell_type": "code",
   "execution_count": 69,
   "metadata": {},
   "outputs": [
    {
     "name": "stdout",
     "output_type": "stream",
     "text": [
      "Statistics For AAPL\n",
      "Jan Perfomance 0.0479 Jan Volatility 0.003806\n",
      "Feb Perfomance 0.0784 Feb Volatility 0.004105\n",
      "Mar Perfomance 0.0418 Mar Volatility 0.004449\n",
      "1st Qtr Perfomance 0.2406 1st Qtr Volatility 0.004136\n",
      "\n",
      "Statistics For GOOGL\n",
      "Jan Perfomance 0.0244 Jan Volatility 0.005100\n",
      "Feb Perfomance 0.0254 Feb Volatility 0.003520\n",
      "Mar Perfomance -0.0042 Mar Volatility 0.004200\n",
      "1st Qtr Perfomance 0.0589 1st Qtr Volatility 0.004282\n",
      "\n",
      "Statistics For IBM\n",
      "Jan Perfomance 0.0450 Jan Volatility 0.005822\n",
      "Feb Perfomance 0.0275 Feb Volatility 0.004092\n",
      "Mar Perfomance -0.0351 Mar Volatility 0.004012\n",
      "1st Qtr Perfomance 0.0428 1st Qtr Volatility 0.004620\n",
      "\n",
      "Statistics For ORCL\n",
      "Jan Perfomance 0.0432 Jan Volatility 0.004711\n",
      "Feb Perfomance 0.0589 Feb Volatility 0.004716\n",
      "Mar Perfomance 0.0435 Mar Volatility 0.004378\n",
      "1st Qtr Perfomance 0.1602 1st Qtr Volatility 0.004589\n",
      "\n"
     ]
    }
   ],
   "source": [
    "# Print the Stock Statistics for comparison\n",
    "\n",
    "print_stock_stats (stock_stats)"
   ]
  },
  {
   "cell_type": "raw",
   "metadata": {},
   "source": [
    "This is the output from running the above cell\n",
    "You will need to use it to fill in the table below:\n",
    "\n",
    "Statistics For AAPL\n",
    "Jan Perfomance 0.0479 Jan Volatility 0.003806\n",
    "Feb Perfomance 0.0784 Feb Volatility 0.004105\n",
    "Mar Perfomance 0.0418 Mar Volatility 0.004449\n",
    "1st Qtr Perfomance 0.2406 1st Qtr Volatility 0.004136\n",
    "\n",
    "Statistics For GOOGL\n",
    "Jan Perfomance 0.0244 Jan Volatility 0.005100\n",
    "Feb Perfomance 0.0254 Feb Volatility 0.003520\n",
    "Mar Perfomance -0.0042 Mar Volatility 0.004200\n",
    "1st Qtr Perfomance 0.0589 1st Qtr Volatility 0.004282\n",
    "\n",
    "Statistics For IBM\n",
    "Jan Perfomance 0.0450 Jan Volatility 0.005822\n",
    "Feb Perfomance 0.0275 Feb Volatility 0.004092\n",
    "Mar Perfomance -0.0351 Mar Volatility 0.004012\n",
    "1st Qtr Perfomance 0.0428 1st Qtr Volatility 0.004620\n",
    "\n",
    "Statistics For ORCL\n",
    "Jan Perfomance 0.0432 Jan Volatility 0.004711\n",
    "Feb Perfomance 0.0589 Feb Volatility 0.004716\n",
    "Mar Perfomance 0.0435 Mar Volatility 0.004378\n",
    "1st Qtr Perfomance 0.1602 1st Qtr Volatility 0.004589"
   ]
  },
  {
   "cell_type": "markdown",
   "metadata": {},
   "source": [
    "### Step J: Fill in Table With Stock Name (12 pts)"
   ]
  },
  {
   "cell_type": "raw",
   "metadata": {},
   "source": [
    "For the Month of January:\n",
    "Stock that performed the best: AAPL\n",
    "Stock that performed the worst: GOOGL\n",
    "Stock that was the most volatile: IBM\n",
    "Stock that was the least volatile: AAPL\n",
    "\n",
    "For the Month of February:\n",
    "Stock that performed the best: AAPL \n",
    "Stock that performed the worst: GOOGL\n",
    "Stock that was the most volatile: ORCL\n",
    "Stock that was the least volatile: GOOGL\n",
    "\n",
    "For the Month of March:\n",
    "Stock that performed the best: ORCL\n",
    "Stock that performed the worst: IBM\n",
    "Stock that was the most volatile: AAPL\n",
    "Stock that was the least volatile: IBM\n",
    "\n",
    "For the First Quarter:\n",
    "Stock that performed the best: AAPL\n",
    "Stock that performed the worst: IBM\n",
    "Stock that was the most volatile: IBM\n",
    "Stock that was the least volatile: AAPL"
   ]
  }
 ],
 "metadata": {
  "kernelspec": {
   "display_name": "Python 3",
   "language": "python",
   "name": "python3"
  },
  "language_info": {
   "codemirror_mode": {
    "name": "ipython",
    "version": 3
   },
   "file_extension": ".py",
   "mimetype": "text/x-python",
   "name": "python",
   "nbconvert_exporter": "python",
   "pygments_lexer": "ipython3",
   "version": "3.7.1"
  }
 },
 "nbformat": 4,
 "nbformat_minor": 2
}
